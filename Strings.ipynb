{
 "cells": [
  {
   "cell_type": "code",
   "execution_count": 4,
   "id": "65153919",
   "metadata": {},
   "outputs": [],
   "source": [
    "import numpy as np"
   ]
  },
  {
   "cell_type": "raw",
   "id": "f2ea6f05",
   "metadata": {},
   "source": [
    "1.1 Is Unique: Implement an algorithm to determine if a string has all unique characters. What if you\n",
    "cannot use additional data structures?\n",
    "Hints: #44, #117, #132"
   ]
  },
  {
   "cell_type": "code",
   "execution_count": 17,
   "id": "12889396",
   "metadata": {},
   "outputs": [],
   "source": [
    "# BRUTE FORCE O(N2) TIME COMPLEXITY\n",
    "def isUnique(string):\n",
    "    if len(string)==0 or len(string)==1:\n",
    "        return ('Is Unique')\n",
    "    l=0\n",
    "    r=1\n",
    "    for l in range(len(string)-1):\n",
    "        letter=string[l]\n",
    "        r=l+1\n",
    "        while r<len(string):\n",
    "            if string[l]==string[r]:\n",
    "                return ('Not unique')\n",
    "            r+=1\n",
    "    return ('Is Unique')\n",
    "        "
   ]
  },
  {
   "cell_type": "code",
   "execution_count": 22,
   "id": "8e2bd4f2",
   "metadata": {},
   "outputs": [],
   "source": [
    "# Using Set (Onlogn) Solution\n",
    "def isUnique(string):\n",
    "    str1=set(string)\n",
    "    if len(str1) == len(string):\n",
    "        return \"Unique\"\n",
    "    else:\n",
    "        return \"Not-Unique\" "
   ]
  },
  {
   "cell_type": "code",
   "execution_count": 25,
   "id": "2a9d3025",
   "metadata": {},
   "outputs": [
    {
     "data": {
      "text/plain": [
       "'Not-Unique'"
      ]
     },
     "execution_count": 25,
     "metadata": {},
     "output_type": "execute_result"
    }
   ],
   "source": [
    "name='ara'\n",
    "isUnique(name)"
   ]
  },
  {
   "cell_type": "raw",
   "id": "7615b618",
   "metadata": {},
   "source": [
    "1.2 Check Permutation: Given two strings, write a method to decide if one is a permutation of the\n",
    "other"
   ]
  },
  {
   "cell_type": "code",
   "execution_count": 55,
   "id": "87169b34",
   "metadata": {},
   "outputs": [],
   "source": [
    "def checkPermutation(string1, string2):\n",
    "    s1=sorted(string1)\n",
    "    s2=sorted(string2)\n",
    "    if s1==s2:\n",
    "        return 'Permutation'\n",
    "    else:\n",
    "        return 'Not Perumtation'\n",
    "    \n",
    "    \n",
    "    "
   ]
  },
  {
   "cell_type": "code",
   "execution_count": 59,
   "id": "3c7e1f43",
   "metadata": {},
   "outputs": [
    {
     "data": {
      "text/plain": [
       "'Permutation'"
      ]
     },
     "execution_count": 59,
     "metadata": {},
     "output_type": "execute_result"
    }
   ],
   "source": [
    "string1='ry'\n",
    "string2='yr'\n",
    "checkPermutation(string1, string2)"
   ]
  },
  {
   "cell_type": "markdown",
   "id": "0db955f9",
   "metadata": {},
   "source": [
    "1.3 URLify: Write a method to replace all spaces in a string with'%20'You may assume that the string\n",
    "has sufficient space at the end to hold the additional characters, and that you are given the \"true\"\n",
    "length of the string, (Note: if implementing in Java, please use a character array so that you can\n",
    "perform this operation in place.)\n",
    "EXAMPLE\n",
    "Input: \"Mr John Smith\n",
    " J, j 13\n",
    "Output: \"Mr%20John%20SmithJ"
   ]
  },
  {
   "cell_type": "code",
   "execution_count": 92,
   "id": "b8a0ef23",
   "metadata": {},
   "outputs": [
    {
     "data": {
      "text/plain": [
       "'Mr#20John#20Smith'"
      ]
     },
     "execution_count": 92,
     "metadata": {},
     "output_type": "execute_result"
    }
   ],
   "source": [
    "string=\"Mr John Smith\"\n",
    "l=len(string)-1\n",
    "count_sp=0\n",
    "for i in range(len(string)):\n",
    "    if string[i]==' ':\n",
    "        count_sp +=1\n",
    "\n",
    "new_len =(len(string)-2 )+ 3*2\n",
    "string=string.ljust(new_len,'*')\n",
    "string =list(string)\n",
    "\n",
    "r=new_len -1\n",
    "\n",
    "\n",
    "while l>=0:\n",
    "    if string[l]!=' ':\n",
    "        string[r]=string[l]\n",
    "        l-=1\n",
    "        r-=1\n",
    "    else:\n",
    "        string[r]='0'\n",
    "        string[r-1]='2'\n",
    "        string[r-2]='#'\n",
    "        r=r-3\n",
    "        l=l-1\n",
    "\n",
    "string=''.join(string)\n",
    "\n",
    "string"
   ]
  },
  {
   "cell_type": "raw",
   "id": "57225372",
   "metadata": {},
   "source": [
    "1.4 Palindrome Permutation: Given a string, write a function to check if it is a permutation of\n",
    "a palindrome. A palindrome is a word or phrase that is the same forwards and backwards, A\n",
    "permutation is a rearrangement of letters. The palindrome does not need to be limited to just\n",
    "dictionary words.\n",
    "EXAMPLE\n",
    "Input: Tac t Coa\n",
    "Output: True (permutations: \"taco cat\"\"atc o eta\" etc.)"
   ]
  },
  {
   "cell_type": "code",
   "execution_count": 99,
   "id": "cb03f449",
   "metadata": {},
   "outputs": [
    {
     "name": "stdout",
     "output_type": "stream",
     "text": [
      "{'t': 2, 'a': 3, 'c': 2, 'o': 1}\n"
     ]
    },
    {
     "data": {
      "text/plain": [
       "'Not Valid Permutation'"
      ]
     },
     "execution_count": 99,
     "metadata": {},
     "output_type": "execute_result"
    }
   ],
   "source": [
    "def palindromePermutation(string):\n",
    "    count=0\n",
    "    p_map={}\n",
    "    string=string.lower().replace(' ','')\n",
    "    for i in range(len(string)):\n",
    "        key=string[i]\n",
    "        if key in p_map.keys():\n",
    "            p_map[key] = p_map[key]+1\n",
    "        else:\n",
    "            p_map[key]=1\n",
    "    print(p_map)\n",
    "    \n",
    "    odd_count=0\n",
    "    \n",
    "    for value in p_map.items():\n",
    "        if value[1] % 2 == 1:\n",
    "            odd_count+=1\n",
    "        if odd_count >1:\n",
    "            return ('Not Valid Permutation')\n",
    "    return('Valid Permutation')  \n",
    "\n",
    "    \n",
    "string='Tac t Coa'  \n",
    "palindromePermutation(string)"
   ]
  },
  {
   "cell_type": "raw",
   "id": "d0161934",
   "metadata": {},
   "source": [
    "1.5 One Away: There are three types of edits that can be performed on strings: insert a character,\n",
    "remove a character, or replace a character. Given two strings, write a function to check if they are\n",
    "one edit (or zero edits) away.\n",
    "EXAMPLE\n",
    "pale , ple - > true\n",
    "pales , pale - > true\n",
    "pale , bale - > true\n",
    "pale , bae - > false"
   ]
  },
  {
   "cell_type": "code",
   "execution_count": 112,
   "id": "931bbafb",
   "metadata": {},
   "outputs": [
    {
     "data": {
      "text/plain": [
       "False"
      ]
     },
     "execution_count": 112,
     "metadata": {},
     "output_type": "execute_result"
    }
   ],
   "source": [
    "def sameLen(s1, s2):\n",
    "    count=0\n",
    "    for i in range(len(s1)):\n",
    "        if s1[i]!= s2[i]:\n",
    "            count+=1\n",
    "        if count>1:\n",
    "            return False\n",
    "    return True\n",
    "    \n",
    "def diffLen(s1,s2):\n",
    "    count=0\n",
    "    i=0\n",
    "    \n",
    "    while i<(len(s2)):\n",
    "        if s1[count+i]==s2[i]:\n",
    "            i+=1\n",
    "        else:\n",
    "            count+=1\n",
    "        if count>1:\n",
    "            return False\n",
    "    return True\n",
    "\n",
    "def oneEditAway(s1, s2):\n",
    "    s1=s1.lower()\n",
    "    s2=s2.lower()\n",
    "    \n",
    "    len1=len(s1)\n",
    "    len2=len(s2)\n",
    "    \n",
    "    if abs(len1-len2)>1:\n",
    "        return False\n",
    "    \n",
    "    if len1 == len2:\n",
    "        return sameLen(s1,s2)\n",
    "    elif len1 > len2:\n",
    "        return diffLen(s1, s2)\n",
    "    else:\n",
    "        return diffLen(s2,s1)\n",
    "    \n",
    "  \n",
    "s1='pale'\n",
    "s2='paless'\n",
    "oneEditAway(s1, s2)"
   ]
  },
  {
   "cell_type": "markdown",
   "id": "f1326118",
   "metadata": {},
   "source": [
    "1,6 String Compression: Implement a method to perform basic string compression using the counts of repeated characters. For example, the string aabcccccaaa would become a2blc5a3. If the\"compressed \"string would not become smaller than the original string, your method should returnthe original string. You can assume the string has only uppercase and lowercase letters (a - z),"
   ]
  },
  {
   "cell_type": "code",
   "execution_count": 175,
   "id": "c669fb2d",
   "metadata": {
    "scrolled": true
   },
   "outputs": [
    {
     "data": {
      "text/plain": [
       "'a2b1c5a3'"
      ]
     },
     "execution_count": 175,
     "metadata": {},
     "output_type": "execute_result"
    }
   ],
   "source": [
    "def compressed(string):\n",
    "    result=[]\n",
    "    count=1\n",
    "    for i in range(len(string)):\n",
    "        if i+1< len(string) and string[i]==string[i+1]:\n",
    "            count=count+1\n",
    "        elif count>=1 or i+1>len(string):\n",
    "            result.append(string[i])\n",
    "            result.append(str(count))\n",
    "            count=1\n",
    "    result=''.join(result)\n",
    "    return result\n",
    "\n",
    "    \n",
    "\n",
    "string= 'aabcccccaaa'\n",
    "compressed(string)"
   ]
  },
  {
   "cell_type": "raw",
   "id": "b849874d",
   "metadata": {},
   "source": [
    "1.7 Rotate Matrix: Given an image represented by an NxN matrix, where each pixel in the image is 4\n",
    "bytes, write a method to rotate the image by 90 degrees. Can you do this in place?"
   ]
  },
  {
   "cell_type": "code",
   "execution_count": 18,
   "id": "3a3bc8a8",
   "metadata": {},
   "outputs": [
    {
     "name": "stdout",
     "output_type": "stream",
     "text": [
      "0 3 1 3\n",
      "0 3 1 3\n",
      "0 3 1 3\n",
      "1 2 2 2\n"
     ]
    }
   ],
   "source": [
    "img=np.array([[1,2,3,4],[5,6,7,8],[9,10,11,12],[13,14,15,16]])\n",
    "img\n",
    "\n",
    "left=0\n",
    "right=(len(img))-1\n",
    "\n",
    "while left<right:\n",
    "    top=left\n",
    "    bottom=right\n",
    "    for i in range(right-left):\n",
    "        temp=img[top][left+i]\n",
    "        img[top][left+i] = img[bottom-i][left]\n",
    "        img[bottom-i][left] = img[bottom][right-i]\n",
    "        img[bottom][right-i]=img[top+i][right]\n",
    "        img[top+i][right] =temp\n",
    "        (print(left,right,top,bottom))\n",
    "    left+=1\n",
    "    right-=1\n"
   ]
  },
  {
   "cell_type": "code",
   "execution_count": 16,
   "id": "202ea00a",
   "metadata": {},
   "outputs": [
    {
     "data": {
      "text/plain": [
       "array([[13,  9,  5,  1],\n",
       "       [14, 10,  6,  2],\n",
       "       [15, 11,  7,  3],\n",
       "       [16, 12,  8,  4]])"
      ]
     },
     "execution_count": 16,
     "metadata": {},
     "output_type": "execute_result"
    }
   ],
   "source": [
    "img"
   ]
  },
  {
   "cell_type": "raw",
   "id": "b63aba21",
   "metadata": {},
   "source": [
    "1.8 Zero Matrix: Write an algorithm such that if an element in an MxN matrix is 0, its entire row and\n",
    "column are set to 0,"
   ]
  },
  {
   "cell_type": "code",
   "execution_count": 25,
   "id": "7ae466b9",
   "metadata": {},
   "outputs": [
    {
     "data": {
      "text/plain": [
       "array([[ 1,  0,  3,  4],\n",
       "       [ 5,  6,  7,  8],\n",
       "       [ 0, 10, 11, 12],\n",
       "       [13, 14, 15, 16]])"
      ]
     },
     "execution_count": 25,
     "metadata": {},
     "output_type": "execute_result"
    }
   ],
   "source": [
    "img=np.array([[1,0,3,4],[5,6,7,8],[0,10,11,12],[13,14,15,16]])\n",
    "img"
   ]
  },
  {
   "cell_type": "code",
   "execution_count": 35,
   "id": "6dd61a77",
   "metadata": {},
   "outputs": [
    {
     "data": {
      "text/plain": [
       "array([[ 0,  0,  0,  0],\n",
       "       [ 5,  0,  7,  8],\n",
       "       [ 5,  0, 11, 12],\n",
       "       [13,  0, 15, 16]])"
      ]
     },
     "execution_count": 35,
     "metadata": {},
     "output_type": "execute_result"
    }
   ],
   "source": [
    "img=np.array([[1,0,3,4],[5,6,7,8],[5,10,11,12],[13,14,15,16]])\n",
    "\n",
    "rows= len(img)\n",
    "cols=len(img[0])\n",
    "\n",
    "for row in range(rows):\n",
    "    for col in range(cols):\n",
    "        if img[row][col]==0:\n",
    "            img[row,:]='9'\n",
    "            img[:,col]='9'\n",
    "\n",
    "for row in range(rows):\n",
    "    for col in range(cols):\n",
    "        if img[row][col]==9:\n",
    "             img[row][col]= 0\n",
    "img"
   ]
  },
  {
   "cell_type": "raw",
   "id": "1e2faea0",
   "metadata": {},
   "source": [
    "1.9 String Rotation; Assume you have a method isSubstrin g which checks if one word is a substring\n",
    "of another. Given two strings, si and s2, write code to check if s2 is a rotation of si using only one\n",
    "call to isSubstrin g (e.g.,\"waterbottle\"isa rotation of'erbottlewat\"). \n"
   ]
  },
  {
   "cell_type": "code",
   "execution_count": 46,
   "id": "a101ce96",
   "metadata": {},
   "outputs": [
    {
     "data": {
      "text/plain": [
       "'Is a rotation'"
      ]
     },
     "execution_count": 46,
     "metadata": {},
     "output_type": "execute_result"
    }
   ],
   "source": [
    "def isRotation(str1, str2):\n",
    "    if len(str1) != len(str2):\n",
    "        return 'Not a rotation'\n",
    "    total=str1+str1\n",
    "    if str2 in total:\n",
    "        return 'Is a rotation'\n",
    "    else:\n",
    "        return 'Not a rotation'\n",
    "\n",
    "    \n",
    "str1= 'rehmana'\n",
    "str2='hmanare'\n",
    "isRotation(str1, str2)\n",
    "\n",
    "\n"
   ]
  },
  {
   "cell_type": "code",
   "execution_count": null,
   "id": "95990989",
   "metadata": {},
   "outputs": [],
   "source": []
  },
  {
   "cell_type": "code",
   "execution_count": null,
   "id": "4a529c28",
   "metadata": {},
   "outputs": [],
   "source": []
  }
 ],
 "metadata": {
  "kernelspec": {
   "display_name": "Python 3 (ipykernel)",
   "language": "python",
   "name": "python3"
  },
  "language_info": {
   "codemirror_mode": {
    "name": "ipython",
    "version": 3
   },
   "file_extension": ".py",
   "mimetype": "text/x-python",
   "name": "python",
   "nbconvert_exporter": "python",
   "pygments_lexer": "ipython3",
   "version": "3.9.10"
  }
 },
 "nbformat": 4,
 "nbformat_minor": 5
}
